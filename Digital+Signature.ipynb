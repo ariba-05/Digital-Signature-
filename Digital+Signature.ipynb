{
 "cells": [
  {
   "cell_type": "markdown",
   "metadata": {},
   "source": [
    "# Problem - Create and verify the digital signature of your full name using RSA with MD5 as hash function"
   ]
  },
  {
   "cell_type": "markdown",
   "metadata": {},
   "source": [
    "Submitted by Ariba Siddiqui (15BCS0007)"
   ]
  },
  {
   "cell_type": "markdown",
   "metadata": {},
   "source": [
    "## 1.1 RSA key-pair generation"
   ]
  },
  {
   "cell_type": "markdown",
   "metadata": {},
   "source": [
    "To generate key-pair for digital signature - RSA algorithm, most widely-used public key cryptography algorithm in the world, is used.\n",
    "\n",
    "The algorithm is as follows:   \n",
    "-  Select p, q such that p and q both are primes and p≠q. \n",
    "-  Calculate n = p x q. \n",
    "-  Calculate Φ(n)  = (p -1) x (q - 1). \n",
    "-  Select integer e such that gcd(Φ(n),e)=1 and where 1 < e < Φ(n). \n",
    "-  Calculate d = e-1 mod Φ(n). i.e. ed = 1 mod Φ(n)   \n",
    "-  Public key KU = {e, n}. \n",
    "-  Private key KR = {d, n}. \n"
   ]
  },
  {
   "cell_type": "code",
   "execution_count": 1,
   "metadata": {},
   "outputs": [
    {
     "name": "stdout",
     "output_type": "stream",
     "text": [
      "RSA key-pair generator\n",
      "Enter a prime number (17, 19, 23, etc): 7\n",
      "Enter another prime number (Not one you entered above): 13\n",
      "\n",
      "Generating your public/private keypairs now . . .\n",
      "\n",
      "\n",
      "The value of e selected :  5\n",
      "\n",
      "Done.\n",
      "\n",
      "public key :  (5, 91)\n",
      "private key :  (101, 91)\n"
     ]
    }
   ],
   "source": [
    "import random, math\n",
    "\n",
    "'''\n",
    "Euclid's extended algorithm for finding the multiplicative inverse of two numbers\n",
    "'''\n",
    "def multiplicative_inverse(e, phi):\n",
    "    d = 0\n",
    "    x1 = 0\n",
    "    x2 = 1\n",
    "    y1 = 1\n",
    "    temp_phi = phi\n",
    "    \n",
    "    while e > 0:\n",
    "        temp1 = temp_phi//e\n",
    "        temp2 = temp_phi - temp1 * e\n",
    "        temp_phi = e\n",
    "        e = temp2\n",
    "        \n",
    "        x = x2- temp1* x1\n",
    "        y = d - temp1 * y1\n",
    "        \n",
    "        x2 = x1\n",
    "        x1 = x\n",
    "        d = y1\n",
    "        y1 = y\n",
    "    \n",
    "    if temp_phi == 1:\n",
    "        return d + phi\n",
    "\n",
    "'''\n",
    "Euclid's algorithm for determining the greatest common divisor\n",
    "Use iteration to make it faster for larger integers\n",
    "'''\n",
    "def gcd(a, b):\n",
    "    while b != 0:\n",
    "        a, b = b, a % b\n",
    "    return a\n",
    "\n",
    "'''\n",
    "Test to see if a number is prime.\n",
    "'''\n",
    "def is_prime(num):\n",
    "    if num == 2:\n",
    "        return True\n",
    "    if num < 2 or num % 2 == 0:\n",
    "        return False\n",
    "    for n in range(3, int(num**0.5)+2, 2):\n",
    "        if num % n == 0:\n",
    "            return False\n",
    "    return True\n",
    "\n",
    "def generate_keypair(p, q):\n",
    "    if not (is_prime(p) and is_prime(q)):\n",
    "        raise ValueError('Both numbers must be prime.')\n",
    "    elif p == q:\n",
    "        raise ValueError('p and q cannot be equal')\n",
    "    #n = pq\n",
    "    n = p * q\n",
    "\n",
    "    #Phi is the totient of n\n",
    "    phi = (p-1) * (q-1)\n",
    "\n",
    "    #Choose an integer e such that e and phi(n) are coprime\n",
    "    e=2\n",
    "    while math.gcd(e,phi)!=1:\n",
    "        e = random.randrange(1, phi)\n",
    "    print(\"\\nThe value of e selected : \",e)\n",
    "    #Use Euclid's Algorithm to verify that e and phi(n) are comprime\n",
    "    g = gcd(e, phi)\n",
    "    while g != 1:\n",
    "        e = random.randrange(2, phi)\n",
    "        g = gcd(e, phi)\n",
    "\n",
    "    #Use Extended Euclid's Algorithm to generate the private key\n",
    "    d = multiplicative_inverse(e, phi)\n",
    "    \n",
    "    #Return public and private keypair\n",
    "    #Public key is (e, n) and private key is (d, n)\n",
    "    return ((e, n), (d, n))\n",
    "\n",
    "\n",
    "\n",
    "if __name__ == '__main__':\n",
    "    '''\n",
    "    Detect if the script is being run directly by the user\n",
    "    '''\n",
    "    print (\"RSA key-pair generator\")\n",
    "    p = int(input(\"Enter a prime number (17, 19, 23, etc): \"))\n",
    "    q = int(input(\"Enter another prime number (Not one you entered above): \"))\n",
    "    print (\"\\nGenerating your public/private keypairs now . . .\\n\")\n",
    "    public, private = generate_keypair(p, q)\n",
    "    print(\"\\nDone.\\n\")\n",
    "    print(\"public key : \",public)\n",
    "    print(\"private key : \",private)"
   ]
  },
  {
   "cell_type": "markdown",
   "metadata": {},
   "source": [
    "## 1.2 Sign Generation"
   ]
  },
  {
   "cell_type": "markdown",
   "metadata": {},
   "source": [
    "-  Given  a  message m,  we  apply  a  suitable  hash  function  H  (MD5, SHA1 or SHA2) to obtain the hash result $ M = H(m). $\n",
    "-  To sign a   message m,   we   use   M   <   n   to   compute   Signature $ S = M^d (mod n)$ where d is the private key of the signer. \n",
    "\n",
    "\n",
    "\n",
    "The Figure shows the data flow diagram of Signature generation module in application RSAAPP.\n",
    "\n",
    "<img src = \"yes.png\">\n"
   ]
  },
  {
   "cell_type": "markdown",
   "metadata": {},
   "source": [
    "We use __MD5 hash function__ in this problem."
   ]
  },
  {
   "cell_type": "markdown",
   "metadata": {},
   "source": [
    "### 1.2.1 MD5 hash "
   ]
  },
  {
   "cell_type": "markdown",
   "metadata": {},
   "source": [
    "The  algorithm  takes  as  input  a  message  of   arbitrary  length  and produces as output a 128-bit “fingerprint” or “message digest” of the input. It is  conjectured  that  it  is  computationally  infeasible  to  produce  two  messages having  the  same  message  digest,  or  to  produce  any  message  having  a  given prespecified  target  message  digest.  The  MD5algorithm  is  intended  for  digital signature  applications,  where  a  large  file  must  be “compressed”  in  a  secure manner before being encrypted with a private (secret) key under a public-key cryptosystem  such  as  RSA.  Figure below depicts  the  way  the  input  message  is turned into a 128-bit message digest. \n",
    "<img src = \"yess.png\">\n"
   ]
  },
  {
   "cell_type": "markdown",
   "metadata": {},
   "source": [
    "Here we compute the message digest of \"Ariba Siddiqui\" "
   ]
  },
  {
   "cell_type": "code",
   "execution_count": 2,
   "metadata": {},
   "outputs": [
    {
     "name": "stdout",
     "output_type": "stream",
     "text": [
      "MD5 message digest of my name . . .\n",
      "b890d7690a609ed76c6cfde430082530 <= \"Ariba Siddiqui\"\n"
     ]
    }
   ],
   "source": [
    "import math\n",
    " \n",
    "rotate_amounts = [7, 12, 17, 22, 7, 12, 17, 22, 7, 12, 17, 22, 7, 12, 17, 22,\n",
    "                  5,  9, 14, 20, 5,  9, 14, 20, 5,  9, 14, 20, 5,  9, 14, 20,\n",
    "                  4, 11, 16, 23, 4, 11, 16, 23, 4, 11, 16, 23, 4, 11, 16, 23,\n",
    "                  6, 10, 15, 21, 6, 10, 15, 21, 6, 10, 15, 21, 6, 10, 15, 21]\n",
    " \n",
    "constants = [int(abs(math.sin(i+1)) * 2**32) & 0xFFFFFFFF for i in range(64)]\n",
    " \n",
    "init_values = [0x67452301, 0xefcdab89, 0x98badcfe, 0x10325476]\n",
    " \n",
    "functions = 16*[lambda b, c, d: (b & c) | (~b & d)] + \\\n",
    "            16*[lambda b, c, d: (d & b) | (~d & c)] + \\\n",
    "            16*[lambda b, c, d: b ^ c ^ d] + \\\n",
    "            16*[lambda b, c, d: c ^ (b | ~d)]\n",
    "\n",
    "index_functions = 16*[lambda i: i] + \\\n",
    "                  16*[lambda i: (5*i + 1)%16] + \\\n",
    "                  16*[lambda i: (3*i + 5)%16] + \\\n",
    "                  16*[lambda i: (7*i)%16]\n",
    "\n",
    "def left_rotate(x, amount):\n",
    "    x &= 0xFFFFFFFF\n",
    "    return ((x<<amount) | (x>>(32-amount))) & 0xFFFFFFFF\n",
    " \n",
    "def md5(message):\n",
    " \n",
    "    message = bytearray(message) #copy our input into a mutable buffer\n",
    "    orig_len_in_bits = (8 * len(message)) & 0xffffffffffffffff\n",
    "    message.append(0x80)\n",
    "    while len(message)%64 != 56:\n",
    "        message.append(0)\n",
    "    message += orig_len_in_bits.to_bytes(8, byteorder='little')\n",
    " \n",
    "    hash_pieces = init_values[:]\n",
    " \n",
    "    for chunk_ofst in range(0, len(message), 64):\n",
    "        a, b, c, d = hash_pieces\n",
    "        chunk = message[chunk_ofst:chunk_ofst+64]\n",
    "        for i in range(64):\n",
    "            f = functions[i](b, c, d)\n",
    "            g = index_functions[i](i)\n",
    "            to_rotate = a + f + constants[i] + int.from_bytes(chunk[4*g:4*g+4], byteorder='little')\n",
    "            new_b = (b + left_rotate(to_rotate, rotate_amounts[i])) & 0xFFFFFFFF\n",
    "            a, b, c, d = d, new_b, b, c\n",
    "        for i, val in enumerate([a, b, c, d]):\n",
    "            hash_pieces[i] += val\n",
    "            hash_pieces[i] &= 0xFFFFFFFF\n",
    " \n",
    "    return sum(x<<(32*i) for i, x in enumerate(hash_pieces))\n",
    " \n",
    "def md5_to_hex(digest):\n",
    "    raw = digest.to_bytes(16, byteorder='little')\n",
    "    return '{:032x}'.format(int.from_bytes(raw, byteorder='big'))\n",
    " \n",
    "if __name__=='__main__':\n",
    "    message = b\"Ariba Siddiqui\"\n",
    "    print(\"MD5 message digest of my name . . .\")\n",
    "    digest = md5_to_hex(md5(message))\n",
    "    print(digest,' <= \"',message.decode('ascii'),'\"', sep='')\n",
    " "
   ]
  },
  {
   "cell_type": "markdown",
   "metadata": {},
   "source": [
    "Comparing with the result of _md5()_ built-in function provided in _hashlib_ (just to check if the above result is right) ..."
   ]
  },
  {
   "cell_type": "code",
   "execution_count": 3,
   "metadata": {},
   "outputs": [
    {
     "data": {
      "text/plain": [
       "'b890d7690a609ed76c6cfde430082530'"
      ]
     },
     "execution_count": 3,
     "metadata": {},
     "output_type": "execute_result"
    }
   ],
   "source": [
    "import hashlib\n",
    "m = hashlib.md5()\n",
    "m.update(b'Ariba Siddiqui')\n",
    "digest = m.hexdigest()\n",
    "digest"
   ]
  },
  {
   "cell_type": "markdown",
   "metadata": {},
   "source": [
    "So, we're right so far! :D\n",
    "\n",
    "Next, we convert this 128-bit digest to an integer value mod(n)."
   ]
  },
  {
   "cell_type": "code",
   "execution_count": 4,
   "metadata": {},
   "outputs": [
    {
     "name": "stdout",
     "output_type": "stream",
     "text": [
      "The value of M (H(m))for our message is :  13\n"
     ]
    }
   ],
   "source": [
    "M = int(digest,16)\n",
    "print(\"The value of M (H(m))for our message is : \",M%private[1])"
   ]
  },
  {
   "cell_type": "markdown",
   "metadata": {},
   "source": [
    "### 1.2.2 Signature generation"
   ]
  },
  {
   "cell_type": "markdown",
   "metadata": {},
   "source": [
    "Compute Signature, where d is private key value.. $$ S = M^d (mod n) $$"
   ]
  },
  {
   "cell_type": "code",
   "execution_count": 5,
   "metadata": {},
   "outputs": [
    {
     "name": "stdout",
     "output_type": "stream",
     "text": [
      "The value of S is :  13\n"
     ]
    }
   ],
   "source": [
    "S = pow(M,private[0],private[1])\n",
    "print(\"The value of S is : \",S)"
   ]
  },
  {
   "cell_type": "markdown",
   "metadata": {},
   "source": [
    "## 1.3 Sign Verification"
   ]
  },
  {
   "cell_type": "markdown",
   "metadata": {},
   "source": [
    "-  To  verify  the  message m,  we  use  the  digital  signature  S  to  compute $N = S^e (mod n)$ where e is the public key of the signer. \n",
    "-  Then we obtain $M = H(m)$ and compare it with N. \n",
    "-  If  both  are  same  then  the  message  is  authentic  otherwise  it  is tempered. "
   ]
  },
  {
   "cell_type": "markdown",
   "metadata": {},
   "source": [
    "### 1.3.1 N calculation"
   ]
  },
  {
   "cell_type": "code",
   "execution_count": 6,
   "metadata": {},
   "outputs": [
    {
     "name": "stdout",
     "output_type": "stream",
     "text": [
      "The value of N : 13\n"
     ]
    }
   ],
   "source": [
    "N = pow(S,public[0],public[1])\n",
    "print(\"The value of N :\",N)"
   ]
  },
  {
   "cell_type": "markdown",
   "metadata": {},
   "source": [
    "### 1.3.2 M calculation"
   ]
  },
  {
   "cell_type": "code",
   "execution_count": 7,
   "metadata": {},
   "outputs": [
    {
     "name": "stdout",
     "output_type": "stream",
     "text": [
      "The calculated value of M is : 13\n"
     ]
    }
   ],
   "source": [
    "M = int(md5_to_hex(md5(b'Ariba Siddiqui')),16)%public[1]\n",
    "print(\"The calculated value of M is :\",M)"
   ]
  },
  {
   "cell_type": "markdown",
   "metadata": {},
   "source": [
    "### 1.3.3 Comparision"
   ]
  },
  {
   "cell_type": "code",
   "execution_count": 8,
   "metadata": {},
   "outputs": [
    {
     "name": "stdout",
     "output_type": "stream",
     "text": [
      "Signature verified!!\n"
     ]
    }
   ],
   "source": [
    "if M==N:\n",
    "    print(\"Signature verified!!\")\n",
    "else:\n",
    "    print(\"There's some bug :(\")"
   ]
  },
  {
   "cell_type": "markdown",
   "metadata": {},
   "source": [
    "THE END :D"
   ]
  },
  {
   "cell_type": "code",
   "execution_count": null,
   "metadata": {
    "collapsed": true
   },
   "outputs": [],
   "source": []
  }
 ],
 "metadata": {
  "kernelspec": {
   "display_name": "Python 3",
   "language": "python",
   "name": "python3"
  },
  "language_info": {
   "codemirror_mode": {
    "name": "ipython",
    "version": 3
   },
   "file_extension": ".py",
   "mimetype": "text/x-python",
   "name": "python",
   "nbconvert_exporter": "python",
   "pygments_lexer": "ipython3",
   "version": "3.6.3"
  }
 },
 "nbformat": 4,
 "nbformat_minor": 2
}
